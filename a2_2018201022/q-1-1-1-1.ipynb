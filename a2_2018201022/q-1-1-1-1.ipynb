{
 "cells": [
  {
   "cell_type": "code",
   "execution_count": 8,
   "metadata": {},
   "outputs": [],
   "source": [
    "import numpy as np\n",
    "import pandas as pd\n",
    "import math\n",
    "import operator\n",
    "import sys\n",
    "from sklearn.model_selection import train_test_split\n",
    "eps = np.finfo(float).eps\n",
    "from numpy import log2 as log\n",
    "\n",
    "def loaddb(filename):\n",
    "            df = pd.read_csv(filename,sep=\" \", header=None, names=(['Res','A','B','C','D','E','F','G']))\n",
    "            df=df[['A','B','C','D','E','F','Res']].reset_index(drop=True)\n",
    "            X= df[['A','B','C','D','E','F']] \n",
    "            Y= df[['Res']] \n",
    "            X_train, X_test, Y_train, Y_test = train_test_split(X, Y, test_size = 0.2, random_state = 1)\n",
    "            X_train=X_train.reset_index(drop=True)\n",
    "            Y_train=Y_train.reset_index(drop=True)\n",
    "            X_test=X_test.reset_index(drop=True)\n",
    "            Y_test=Y_test.reset_index(drop=True)\n",
    "            df=pd.concat([X_train,Y_train], axis=1)\n",
    "            return df,X_train, X_test, Y_train, Y_test"
   ]
  },
  {
   "cell_type": "code",
   "execution_count": 9,
   "metadata": {},
   "outputs": [],
   "source": [
    "def getDistance(X1,X2):\n",
    "\tdistance = 0\n",
    "\tfor i in range(0,len(X2)):\n",
    "                    distance += pow((X2[i] - X1[i]), 2)\n",
    "\treturn math.sqrt(distance)\n"
   ]
  },
  {
   "cell_type": "code",
   "execution_count": 10,
   "metadata": {},
   "outputs": [],
   "source": [
    "def checkNeighbours(df,sample):\n",
    "    Neighbour_dis= []\n",
    "    for i in range(0,len(df)):\n",
    "        dist = getDistance(df.iloc[i],sample)\n",
    "        Neighbour_dis.append((df.iloc[i], dist))\n",
    "    \n",
    "    return Neighbour_dis\n",
    " "
   ]
  },
  {
   "cell_type": "code",
   "execution_count": 11,
   "metadata": {},
   "outputs": [],
   "source": [
    "def selectbestk(myneighbour,k):\n",
    "    myneighbour.sort(key=operator.itemgetter(1))\n",
    "    bestk=[]\n",
    "    for i in range(0,k):\n",
    "        bestk.append(myneighbour[i][0])\n",
    "    return bestk\n",
    "    "
   ]
  },
  {
   "cell_type": "code",
   "execution_count": 12,
   "metadata": {},
   "outputs": [],
   "source": [
    "def predict( kneighbours,k):\n",
    "\n",
    "\n",
    "        classVotes = {}\n",
    "        for x in range(len(kneighbours)):\n",
    "            response = kneighbours[x][-1]\n",
    "            if response in classVotes:\n",
    "                classVotes[response] += 1\n",
    "            else:\n",
    "                classVotes[response] = 1\n",
    "        sortedVotes = sorted(classVotes.iteritems(), key=operator.itemgetter(1), reverse=True)\n",
    "        return sortedVotes[0][0]\n",
    "\n",
    "    "
   ]
  },
  {
   "cell_type": "code",
   "execution_count": 13,
   "metadata": {},
   "outputs": [],
   "source": [
    "def calculate_recall_precision(original,res):\n",
    "        TP=0\n",
    "        FP=0\n",
    "        TN= 0\n",
    "        FN= 0\n",
    "        f1_score=0\n",
    "        for i in range(0, len(original)):\n",
    "\n",
    "                if res[i] == 1:\n",
    "                    if res[i] == original[i]:\n",
    "                        TP+= 1\n",
    "                    else:\n",
    "                        FP+= 1\n",
    "                else:\n",
    "                    if res[i] == original[i]:\n",
    "                        TN+= 1\n",
    "                    else:\n",
    "                        FN+= 1\n",
    "\n",
    "        precision=0\n",
    "        recall=0\n",
    "        if(TP!=0 or TN!=0):\n",
    "                accuracy = (TP+TN)*1.0/(TP + TN +FP +FN)\n",
    "        if(TP!=0):\n",
    "                precision = TP*1.0/(TP + FP)\n",
    "                recall = TP*1.0/(TP + FN)\n",
    "                f1_score = 2 / ((1 / precision) + (1 / recall))\n",
    "        print \"True +ve=\",TP,\"True -ve=\",TN,\"False +ve=\",FP,\"False -ve=\",FN                    \n",
    "\n",
    "        return accuracy*100, precision*100, recall*100,f1_score*100\n",
    "    "
   ]
  },
  {
   "cell_type": "code",
   "execution_count": 14,
   "metadata": {},
   "outputs": [
    {
     "name": "stdout",
     "output_type": "stream",
     "text": [
      "<===============Result for Robot1====================>\n",
      "True +ve= 11 True -ve= 7 False +ve= 5 False -ve= 2\n",
      "Accuracy: 72.0%\n",
      "Precision: 68.75%\n",
      "Recall: 84.6153846154%\n",
      "F1 score: 75.8620689655%\n",
      "-----------------------------------------------------\n",
      "<===============Result for Robot2====================>\n",
      "True +ve= 10 True -ve= 12 False +ve= 2 False -ve= 1\n",
      "Accuracy: 88.0%\n",
      "Precision: 83.3333333333%\n",
      "Recall: 90.9090909091%\n",
      "F1 score: 86.9565217391%\n"
     ]
    }
   ],
   "source": [
    "print \"<===============Result for Robot1====================>\"\n",
    "def show_result(filename):\n",
    "    df,X_train, X_test, Y_train, Y_test=loaddb(filename)\n",
    "    res=[]\n",
    "    k=3\n",
    "    TP={}\n",
    "    Pred={}\n",
    "    Real={}\n",
    "#     if(len(sys.argv)>1):\n",
    "#                 Test_Filename=sys.argv[1]\n",
    "#                 testdf = pd.read_csv(Test_Filename,sep=\" \", header=None, names=(['Res','A','B','C','D','E','F','G']))\n",
    "#                 X_test=testdf[['A','B','C','D','E','F']] \n",
    "#                 Y_test=testdf[['Res']]\n",
    "    for i in range(0,len(X_test)):\n",
    "        test=X_test.iloc[i]\n",
    "        neighbours = checkNeighbours(df,test)\n",
    "        kneighbours=selectbestk(neighbours,k)\n",
    "        p=predict(kneighbours,test)\n",
    "        res.append(p)            \n",
    "    test_array=np.array(Y_test['Res'])\n",
    "    attrib=Y_test['Res'].unique()\n",
    "\n",
    "    accuracy, precision, recall,f1_score = calculate_recall_precision(test_array,res)\n",
    "    print \"Accuracy: {0}%\".format(accuracy)\n",
    "    print \"Precision: {0}%\".format(precision)\n",
    "    print \"Recall: {0}%\".format(recall)\n",
    "    print \"F1 score: {0}%\".format(f1_score)\n",
    "show_result('/home/neelesh/Downloads/RobotDataset/Robot1')\n",
    "print \"-----------------------------------------------------\"\n",
    "print \"<===============Result for Robot2====================>\"\n",
    "show_result('/home/neelesh/Downloads/RobotDataset/Robot2')"
   ]
  },
  {
   "cell_type": "code",
   "execution_count": null,
   "metadata": {},
   "outputs": [],
   "source": []
  },
  {
   "cell_type": "code",
   "execution_count": null,
   "metadata": {},
   "outputs": [],
   "source": []
  },
  {
   "cell_type": "code",
   "execution_count": null,
   "metadata": {},
   "outputs": [],
   "source": []
  }
 ],
 "metadata": {
  "kernelspec": {
   "display_name": "Python 2",
   "language": "python",
   "name": "python2"
  },
  "language_info": {
   "codemirror_mode": {
    "name": "ipython",
    "version": 2
   },
   "file_extension": ".py",
   "mimetype": "text/x-python",
   "name": "python",
   "nbconvert_exporter": "python",
   "pygments_lexer": "ipython2",
   "version": "2.7.15rc1"
  }
 },
 "nbformat": 4,
 "nbformat_minor": 2
}
