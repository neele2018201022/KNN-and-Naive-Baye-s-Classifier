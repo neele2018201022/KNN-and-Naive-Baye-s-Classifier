{
 "cells": [
  {
   "cell_type": "code",
   "execution_count": 23,
   "metadata": {},
   "outputs": [],
   "source": [
    "import numpy as np\n",
    "import pandas as pd\n",
    "import sys\n",
    "import matplotlib.pyplot as plt\n",
    "from sklearn.model_selection import train_test_split\n",
    "from sklearn.metrics import r2_score\n",
    "def loadfile():\n",
    "            df= pd.read_csv('/home/neelesh/Downloads/AdmissionDataset/data.csv')\n",
    "            df=df.drop(['Serial No.'],axis=1)\n",
    "            X1=df.drop(['Chance of Admit '],axis=1)\n",
    "            Y1=df[['Chance of Admit ']]\n",
    "\n",
    "            X_train, X_test, Y_train, Y_test = train_test_split(X1, Y1, test_size = 0.2,random_state=1)\n",
    "            X_train=X_train.reset_index(drop=True)\n",
    "            Y_train=Y_train.reset_index(drop=True)\n",
    "            X_test=X_test.reset_index(drop=True)\n",
    "            Y_test=Y_test.reset_index(drop=True)\n",
    "            df=pd.concat([X_train,Y_train], axis=1)\n",
    "            temp_std=list(df.std())\n",
    "            temp_mean = list(df.mean())\n",
    "            df = (df - df.mean())*1.0/df.std()\n",
    "            X = df.iloc[:,0:7]\n",
    "            ones = np.ones([X.shape[0],1])\n",
    "            X = np.concatenate((ones,X),axis=1)\n",
    "            Y= df.iloc[:,7:8].values\n",
    "            temp1=((X.T).dot(Y))\n",
    "            temp2=np.linalg.inv((X.T).dot(X))\n",
    "            theta1=temp2.dot(temp1)\n",
    "            return df,X_train, X_test, Y_train, Y_test,temp_std,temp_mean,X,Y,theta1\n"
   ]
  },
  {
   "cell_type": "code",
   "execution_count": 24,
   "metadata": {},
   "outputs": [],
   "source": [
    "def myfunc(X,theta):\n",
    "    temp=0\n",
    "    for i in range(0,len(theta)):\n",
    "        temp+=(theta[i]*X[i])\n",
    "    return temp    \n",
    "def costfunc(theta,X,Y):\n",
    "    temp=0\n",
    "    for i in range(0,len(X)):\n",
    "        temp+=pow(myfunc(X[i],theta)-Y[i],2)\n",
    "    return temp/(2*len(X))\n"
   ]
  },
  {
   "cell_type": "code",
   "execution_count": 25,
   "metadata": {},
   "outputs": [],
   "source": [
    "def gradientDescent(X,Y,theta,iterations,alpha):\n",
    "    temp=[0]*8\n",
    "    cost=[0]*iterations\n",
    "    for i in range(iterations):\n",
    "        for j in range(len(theta)):\n",
    "                sum1=0\n",
    "                for k in range(len(X)):\n",
    "                    sum1+=(myfunc(X[k],theta)-Y[k])*X[k][j]\n",
    "                temp[j]=theta[j]-((float(sum1)*alpha)/len(X))\n",
    "                \n",
    "        for j in range(len(theta)):\n",
    "              theta[j]=temp[j]        \n",
    "        cost[i]=costfunc(theta,X,Y)\n",
    "    return theta,cost\n"
   ]
  },
  {
   "cell_type": "code",
   "execution_count": 26,
   "metadata": {
    "scrolled": true
   },
   "outputs": [],
   "source": [
    "def execute(X,Y):\n",
    "        alpha = 0.01\n",
    "        iterations = 100\n",
    "        theta = [0]*8\n",
    "        besttheta,cost=gradientDescent(X,Y,theta,iterations,alpha)\n",
    "        return besttheta,cost"
   ]
  },
  {
   "cell_type": "code",
   "execution_count": 27,
   "metadata": {},
   "outputs": [],
   "source": [
    "def predict_one(theta,test_row):\n",
    "    for i in range(len(test_row)):\n",
    "        test_row[i]=(test_row[i]-temp_mean[i])/(temp_std[i])\n",
    "    normalised =  theta[0]*1 +theta[1]*test_row[0] +theta[2]*test_row[1] +theta[3]*test_row[2] +theta[4]*test_row[3] +theta[5]*test_row[4] +theta[6]*test_row[5] +theta[7]*test_row[6] \n",
    "    for i in range(len(test_row)):\n",
    "        test_row[i]=(test_row[i]*(temp_std[i]))+temp_mean[i]\n",
    "    return (normalised*temp_std[-1])+temp_mean[-1]"
   ]
  },
  {
   "cell_type": "code",
   "execution_count": 28,
   "metadata": {},
   "outputs": [
    {
     "name": "stdout",
     "output_type": "stream",
     "text": [
      "R2_score using gradient descent method is: 0.7855176682053696\n",
      "R2_score using Matrix method is: 0.8008593663156891\n"
     ]
    },
    {
     "data": {
      "image/png": "[encoded data removed]",
      "text/plain": [
       "<matplotlib.figure.Figure at 0x7f8d5605bd90>"
      ]
     },
     "metadata": {
      "needs_background": "light"
     },
     "output_type": "display_data"
    }
   ],
   "source": [
    "df,X_train, X_test, Y_train, Y_test,temp_std,temp_mean,X,Y,theta1=loadfile()\n",
    "besttheta,cost=execute(X,Y)\n",
    "# if(len(sys.argv)>1):\n",
    "#         Test_Filename=sys.argv[1]\n",
    "#         testdf =pd.read_csv(Test_Filename)\n",
    "#         testdf=testdf.drop(['Serial No.'],axis=1)\n",
    "#         X_test=testdf.drop(['Chance of Admit '],axis=1)\n",
    "#         Y_test=testdf[['Chance of Admit ']]  \n",
    "myY1=[]\n",
    "myY2=[]\n",
    "test=[]\n",
    "Y_test1=np.array(Y_test)\n",
    "X_test1=np.array(X_test)\n",
    "for i in range(0,len(Y_test1)):\n",
    "     test.append(Y_test1[i][0])\n",
    "test=np.array(test)        \n",
    "for i in range(len(X_test1)):\n",
    "    myY1.append(predict_one(besttheta,X_test1[i]))\n",
    "    myY2.append(predict_one(theta1,X_test1[i]))\n",
    "\n",
    "print \"R2_score using gradient descent method is:\",r2_score(test,myY1)\n",
    "print \"R2_score using Matrix method is:\",r2_score(test,myY2)\n",
    "nodes=[i for i in range(1,101)]\n",
    "plt.plot(nodes,cost, label = 'Error Rate') \n",
    "plt.legend()\n",
    "plt.xlabel('Iterations')\n",
    "plt.ylabel('Cost')\n",
    "plt.show()"
   ]
  },
  {
   "cell_type": "code",
   "execution_count": null,
   "metadata": {},
   "outputs": [],
   "source": []
  }
 ],
 "metadata": {
  "kernelspec": {
   "display_name": "Python 2",
   "language": "python",
   "name": "python2"
  },
  "language_info": {
   "codemirror_mode": {
    "name": "ipython",
    "version": 2
   },
   "file_extension": ".py",
   "mimetype": "text/x-python",
   "name": "python",
   "nbconvert_exporter": "python",
   "pygments_lexer": "ipython2",
   "version": "2.7.15rc1"
  }
 },
 "nbformat": 4,
 "nbformat_minor": 2
}
