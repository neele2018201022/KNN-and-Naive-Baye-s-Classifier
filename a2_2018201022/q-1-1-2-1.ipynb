{
 "cells": [
  {
   "cell_type": "code",
   "execution_count": 1,
   "metadata": {},
   "outputs": [],
   "source": [
    "import numpy as np\n",
    "import pandas as pd\n",
    "import math\n",
    "import sys\n",
    "import operator\n",
    "from sklearn.model_selection import train_test_split\n",
    "eps = np.finfo(float).eps\n",
    "from numpy import log2 as log\n",
    "\n",
    "def loadfile():\n",
    "        filename='/home/neelesh/Downloads/Iris.csv'\n",
    "        df = pd.read_csv(filename, header=None, names=(['A','B','C','D','Res']))\n",
    "        X = df[['A','B','C','D']] \n",
    "        Y = df[['Res']] \n",
    "        X_train, X_test, Y_train, Y_test = train_test_split(X, Y, test_size = 0.2, random_state = 1)\n",
    "        X_train=X_train.reset_index(drop=True)\n",
    "        Y_train=Y_train.reset_index(drop=True)\n",
    "        X_test=X_test.reset_index(drop=True)\n",
    "        Y_test=Y_test.reset_index(drop=True)\n",
    "        df=pd.concat([X_train,Y_train], axis=1)\n",
    "        return df,X_train, X_test, Y_train, Y_test"
   ]
  },
  {
   "cell_type": "code",
   "execution_count": 2,
   "metadata": {},
   "outputs": [],
   "source": [
    "def getDistance(X1,X2):\n",
    "\tdistance = 0\n",
    "\tfor i in range(0,len(X2)):\n",
    "                    distance += pow((X2[i] - X1[i]), 2)\n",
    "\treturn math.sqrt(distance)\n"
   ]
  },
  {
   "cell_type": "code",
   "execution_count": 3,
   "metadata": {},
   "outputs": [],
   "source": [
    "def checkNeighbours(df,sample):\n",
    "    Neighbour_dis= []\n",
    "    for i in range(0,len(df)):\n",
    "        dist = getDistance(df.iloc[i],sample)\n",
    "        Neighbour_dis.append((df.iloc[i], dist))\n",
    "    \n",
    "    return Neighbour_dis\n",
    " "
   ]
  },
  {
   "cell_type": "code",
   "execution_count": 4,
   "metadata": {},
   "outputs": [],
   "source": [
    "def selectbestk(myneighbour,k):\n",
    "    myneighbour.sort(key=operator.itemgetter(1))\n",
    "    bestk=[]\n",
    "    for i in range(0,k):\n",
    "        bestk.append(myneighbour[i][0])\n",
    "    return bestk\n",
    "    "
   ]
  },
  {
   "cell_type": "code",
   "execution_count": 5,
   "metadata": {},
   "outputs": [],
   "source": [
    "def predict( kneighbours,k):\n",
    "\n",
    "\n",
    "        classVotes = {}\n",
    "        for x in range(len(kneighbours)):\n",
    "            response = kneighbours[x][-1]\n",
    "            if response in classVotes:\n",
    "                classVotes[response] += 1\n",
    "            else:\n",
    "                classVotes[response] = 1\n",
    "        sortedVotes = sorted(classVotes.iteritems(), key=operator.itemgetter(1), reverse=True)\n",
    "        return sortedVotes[0][0]\n",
    "\n",
    "    "
   ]
  },
  {
   "cell_type": "code",
   "execution_count": null,
   "metadata": {},
   "outputs": [],
   "source": []
  },
  {
   "cell_type": "code",
   "execution_count": 6,
   "metadata": {},
   "outputs": [],
   "source": [
    "def getAccuracy(testSet, predictions):\n",
    "        correct = 0\n",
    "        TP={}\n",
    "        Pred={}\n",
    "        Real={}\n",
    "        for x in range(len(testSet)):\n",
    "            if(testSet[x] in Real):\n",
    "                Real[testSet[x]]+=1\n",
    "            else:\n",
    "                Real[testSet[x]]=1\n",
    "            if(predictions[x] in Pred):\n",
    "                Pred[predictions[x]]+=1\n",
    "            else:\n",
    "                Pred[predictions[x]]=1\n",
    "            if testSet[x] == predictions[x]:\n",
    "                if(testSet[x] in TP):\n",
    "                    TP[testSet[x]]+=1\n",
    "                else:\n",
    "                    TP[testSet[x]]=1\n",
    "                correct += 1\n",
    "        return TP,Pred,Real,correct"
   ]
  },
  {
   "cell_type": "code",
   "execution_count": 7,
   "metadata": {},
   "outputs": [
    {
     "name": "stdout",
     "output_type": "stream",
     "text": [
      "Accuracy:  96.2962962963 %\n",
      "========================================\n",
      "Details of attribute Iris-setosa\n",
      "Precision:  100.0 %\n",
      "Recall:  100.0 %\n",
      "========================================\n",
      "Details of attribute Iris-virginica\n",
      "Precision:  100.0 %\n",
      "Recall:  90.9090909091 %\n",
      "========================================\n",
      "Details of attribute Iris-versicolor\n",
      "Precision:  87.5 %\n",
      "Recall:  100.0 %\n",
      "========================================\n"
     ]
    }
   ],
   "source": [
    "def show_result():\n",
    "    df,X_train, X_test, Y_train, Y_test=loadfile()\n",
    "    res=[]\n",
    "    k=3\n",
    "    TP={}\n",
    "    Pred={}\n",
    "    Real={}\n",
    "#     if(len(sys.argv)>1):\n",
    "#                 Test_Filename=sys.argv[1]\n",
    "#                 testdf =pd.read_csv(filename, header=None, names=(['A','B','C','D','Res']))\n",
    "#                 X_test=testdf[['A','B','C','D']]  \n",
    "#                 Y_test=testdf[['Res']]\n",
    "    for i in range(0,len(X_test)):\n",
    "        test=X_test.iloc[i]\n",
    "        neighbours = checkNeighbours(df,test)\n",
    "        kneighbours=selectbestk(neighbours,k)\n",
    "        p=predict(kneighbours,test)\n",
    "        res.append(p)            \n",
    "    test_array=np.array(Y_test['Res'])\n",
    "    attrib=Y_test['Res'].unique()\n",
    "\n",
    "    TP,Pred,Real,correct=getAccuracy(test_array,res)\n",
    "\n",
    "    print \"Accuracy: \",(correct*100.0)/len(test_array),\"%\"\n",
    "    print \"========================================\"\n",
    "    for val in attrib:\n",
    "        \n",
    "            print \"Details of attribute\",val\n",
    "            \n",
    "            print\"Precision: \",float(TP[val]*100)/Pred[val],\"%\"\n",
    "            print\"Recall: \",float(TP[val]*100)/Real[val],\"%\"\n",
    "            print \"========================================\"\n",
    "#             print(\"F1 score: \", f1_score)\n",
    "show_result()"
   ]
  },
  {
   "cell_type": "code",
   "execution_count": null,
   "metadata": {},
   "outputs": [],
   "source": []
  },
  {
   "cell_type": "code",
   "execution_count": null,
   "metadata": {},
   "outputs": [],
   "source": []
  },
  {
   "cell_type": "code",
   "execution_count": null,
   "metadata": {},
   "outputs": [],
   "source": []
  }
 ],
 "metadata": {
  "kernelspec": {
   "display_name": "Python 2",
   "language": "python",
   "name": "python2"
  },
  "language_info": {
   "codemirror_mode": {
    "name": "ipython",
    "version": 2
   },
   "file_extension": ".py",
   "mimetype": "text/x-python",
   "name": "python",
   "nbconvert_exporter": "python",
   "pygments_lexer": "ipython2",
   "version": "2.7.15rc1"
  }
 },
 "nbformat": 4,
 "nbformat_minor": 2
}
