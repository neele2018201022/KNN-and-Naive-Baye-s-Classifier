{
 "cells": [
  {
   "cell_type": "code",
   "execution_count": 1,
   "metadata": {},
   "outputs": [],
   "source": [
    "import numpy as np\n",
    "import pandas as pd\n",
    "import sys\n",
    "import matplotlib.pyplot as plt\n",
    "from sklearn.model_selection import train_test_split\n",
    "from sklearn.metrics import r2_score\n",
    "def loadfile():\n",
    "            df= pd.read_csv('/home/neelesh/Downloads/AdmissionDataset/data.csv')\n",
    "            df=df.drop(['Serial No.'],axis=1)\n",
    "            X1=df.drop(['Chance of Admit '],axis=1)\n",
    "            Y1=df[['Chance of Admit ']]\n",
    "\n",
    "            X_train, X_test, Y_train, Y_test = train_test_split(X1, Y1, test_size = 0.2,random_state=1)\n",
    "            X_train=X_train.reset_index(drop=True)\n",
    "            Y_train=Y_train.reset_index(drop=True)\n",
    "            X_test=X_test.reset_index(drop=True)\n",
    "            Y_test=Y_test.reset_index(drop=True)\n",
    "            df=pd.concat([X_train,Y_train], axis=1)\n",
    "            temp_std=list(df.std())\n",
    "            temp_mean = list(df.mean())\n",
    "            df = (df - df.mean())*1.0/df.std()\n",
    "            X = df.iloc[:,0:7]\n",
    "            ones = np.ones([X.shape[0],1])\n",
    "            X = np.concatenate((ones,X),axis=1)\n",
    "            Y= df.iloc[:,7:8].values\n",
    "            temp1=((X.T).dot(Y))\n",
    "            temp2=np.linalg.inv((X.T).dot(X))\n",
    "            theta1=temp2.dot(temp1)\n",
    "            return df,X_train, X_test, Y_train, Y_test,temp_std,temp_mean,X,Y,theta1\n"
   ]
  },
  {
   "cell_type": "code",
   "execution_count": 2,
   "metadata": {},
   "outputs": [],
   "source": [
    "def myfunc(X,theta):\n",
    "    temp=0\n",
    "    for i in range(0,len(theta)):\n",
    "        temp+=(theta[i]*X[i])\n",
    "    return temp    \n",
    " "
   ]
  },
  {
   "cell_type": "code",
   "execution_count": 3,
   "metadata": {},
   "outputs": [],
   "source": [
    "def costfunc_MeanSquareErrorLoss(theta,X,Y):\n",
    "    temp=0\n",
    "    for i in range(0,len(X)):\n",
    "        temp+=pow(myfunc(X[i],theta)-Y[i],2)\n",
    "    return temp/(2*len(X))\n",
    "def gradientDescent_MeanSquareErrorLoss(X,Y,theta,iterations,alpha):\n",
    "    temp=[0]*8\n",
    "    cost=[0]*iterations\n",
    "    for i in range(iterations):\n",
    "        for j in range(len(theta)):\n",
    "                sum1=0\n",
    "                for k in range(len(X)):\n",
    "                    sum1+=(myfunc(X[k],theta)-Y[k])*X[k][j]\n",
    "                temp[j]=theta[j]-((float(sum1)*alpha)/len(X))\n",
    "                \n",
    "        for j in range(len(theta)):\n",
    "              theta[j]=temp[j]        \n",
    "        cost[i]=costfunc_MeanSquareErrorLoss(theta,X,Y)\n",
    "    return theta,cost\n"
   ]
  },
  {
   "cell_type": "code",
   "execution_count": 4,
   "metadata": {},
   "outputs": [],
   "source": [
    "def costfunc_MeanAbsoluteError(theta,X,Y):\n",
    "    temp=0\n",
    "    for i in range(0,len(X)):\n",
    "        temp+=abs(myfunc(X[i],theta)-Y[i])\n",
    "    return temp/(len(X))   \n",
    "def gradientDescent_MeanAbsoluteError(X,Y,theta,iterations,alpha):\n",
    "    temp=[0]*8\n",
    "    cost=[0]*iterations\n",
    "    for i in range(iterations):\n",
    "        for j in range(len(theta)):\n",
    "                sum1=0\n",
    "                for k in range(len(X)):\n",
    "                    temp1=(myfunc(X[k],theta))\n",
    "                    sum1+=((temp1-Y[k])/(abs(temp1-Y[k])))*X[k][j]\n",
    "                temp[j]=theta[j]-((float(sum1)*alpha)/len(X))\n",
    "                \n",
    "        for j in range(len(theta)):\n",
    "              theta[j]=temp[j]        \n",
    "        cost[i]=costfunc_MeanAbsoluteError(theta,X,Y)\n",
    "    return theta,cost"
   ]
  },
  {
   "cell_type": "code",
   "execution_count": 5,
   "metadata": {},
   "outputs": [],
   "source": [
    "def costfunc_MeanAbsolutePercentageError(theta,X,Y):\n",
    "    temp=0\n",
    "    for i in range(0,len(X)):\n",
    "        temp+=abs(myfunc(X[i],theta-Y[i]))/float(Y[i])\n",
    "    return ((temp)/(len(X)))     \n",
    "def gradientDescent_MeanAbsolutePercentageError(X,Y,theta,iterations,alpha):\n",
    "    temp=[0]*8\n",
    "    cost=[0]*iterations\n",
    "    prevcost=None\n",
    "    for i in range(iterations):\n",
    "        for j in range(len(theta)):\n",
    "                sum1=0\n",
    "                for k in range(len(X)):\n",
    "                    error=((myfunc(X[k],theta))-Y[k])/float(Y[k])\n",
    "                    sum1+=(error/(abs(error))*(abs(X[k][j]/float(Y[k]))))\n",
    "                temp[j]=theta[j]-((float(sum1)*alpha)/len(X))\n",
    "                \n",
    "        for j in range(len(theta)):\n",
    "              theta[j]=temp[j]        \n",
    "        cost[i]=costfunc_MeanAbsolutePercentageError(theta,X,Y)\n",
    "        if(prevcost is None or prevcost>=cost[i]):\n",
    "            prevcost=cost[i]\n",
    "        else:\n",
    "            for k in range(i,iterations):\n",
    "                cost[k]=prevcost\n",
    "            break\n",
    "    return theta,cost"
   ]
  },
  {
   "cell_type": "code",
   "execution_count": 6,
   "metadata": {
    "scrolled": true
   },
   "outputs": [],
   "source": [
    "def execute(X,Y):\n",
    "        alpha = 0.01\n",
    "        iterations = 100\n",
    "        theta = [0]*8\n",
    "        besttheta_MeanSquareErrorLoss,cost_MeanSquareErrorLoss=gradientDescent_MeanSquareErrorLoss(X,Y,theta,iterations,alpha)\n",
    "        theta = [0]*8\n",
    "        besttheta_MeanAbsoluteError,cost_MeanAbsoluteError=gradientDescent_MeanAbsoluteError(X,Y,theta,iterations,alpha)\n",
    "        theta = [0]*8\n",
    "        besttheta_MeanAbsolutePercentageError,cost_MeanAbsolutePercentageError=gradientDescent_MeanAbsolutePercentageError(X,Y,theta,iterations,alpha)\n",
    "        return besttheta_MeanSquareErrorLoss,besttheta_MeanAbsoluteError,besttheta_MeanAbsolutePercentageError\n",
    "        "
   ]
  },
  {
   "cell_type": "code",
   "execution_count": 7,
   "metadata": {},
   "outputs": [],
   "source": [
    "def predict_one(theta,test_row):\n",
    "    temp=test_row\n",
    "    for i in range(len(test_row)):\n",
    "        test_row[i]=(test_row[i]-temp_mean[i])/(temp_std[i])\n",
    "    normalised =  theta[0]*1 +theta[1]*test_row[0] +theta[2]*test_row[1] +theta[3]*test_row[2] +theta[4]*test_row[3] +theta[5]*test_row[4] +theta[6]*test_row[5] +theta[7]*test_row[6] \n",
    "    for i in range(len(test_row)):\n",
    "        test_row[i]=(test_row[i]*(temp_std[i]))+temp_mean[i]\n",
    "    return (normalised*temp_std[-1])+temp_mean[-1]"
   ]
  },
  {
   "cell_type": "code",
   "execution_count": 8,
   "metadata": {},
   "outputs": [
    {
     "name": "stdout",
     "output_type": "stream",
     "text": [
      "     R2_score for MeanSquareErrorLoss: 0.7855176682053696\n",
      "     R2_score for MeanAbsoluteError: 0.7866618124707759\n",
      "     R2_score for MeanAbsolutePercentageError: 0.7441468667587112\n"
     ]
    }
   ],
   "source": [
    "df,X_train, X_test, Y_train, Y_test,temp_std,temp_mean,X,Y,theta1=loadfile()\n",
    "besttheta_MeanSquareErrorLoss,besttheta_MeanAbsoluteError,besttheta_MeanAbsolutePercentageError=execute(X,Y)\n",
    "# if(len(sys.argv)>1):\n",
    "#         Test_Filename=sys.argv[1]\n",
    "#         testdf =pd.read_csv(Test_Filename)\n",
    "#         testdf=testdf.drop(['Serial No.'],axis=1)\n",
    "#         X_test=testdf.drop(['Chance of Admit '],axis=1)\n",
    "#         Y_test=testdf[['Chance of Admit ']] \n",
    "Res_MeanSquareErrorLoss=[]\n",
    "Res_MeanAbsoluteError=[]\n",
    "Res_MeanAbsolutePercentageError=[]\n",
    "test=[]\n",
    "Y_test1=np.array(Y_test)\n",
    "X_test1=np.array(X_test)\n",
    "for i in range(0,len(Y_test1)):\n",
    "     test.append(Y_test1[i][0])\n",
    "test=np.array(test)        \n",
    "for i in range(len(X_test1)):\n",
    "    Res_MeanSquareErrorLoss.append(predict_one(besttheta_MeanSquareErrorLoss,X_test1[i]))\n",
    "    Res_MeanAbsoluteError.append(predict_one(besttheta_MeanAbsoluteError,X_test1[i]))\n",
    "    Res_MeanAbsolutePercentageError.append(predict_one(besttheta_MeanAbsolutePercentageError,X_test1[i]))\n",
    "     \n",
    "\n",
    "print \"     R2_score for MeanSquareErrorLoss:\",r2_score(test,Res_MeanSquareErrorLoss)\n",
    "print \"     R2_score for MeanAbsoluteError:\",r2_score(test,Res_MeanAbsoluteError)\n",
    "print \"     R2_score for MeanAbsolutePercentageError:\",r2_score(test,Res_MeanAbsolutePercentageError)\n"
   ]
  },
  {
   "cell_type": "code",
   "execution_count": null,
   "metadata": {},
   "outputs": [],
   "source": []
  }
 ],
 "metadata": {
  "kernelspec": {
   "display_name": "Python 2",
   "language": "python",
   "name": "python2"
  },
  "language_info": {
   "codemirror_mode": {
    "name": "ipython",
    "version": 2
   },
   "file_extension": ".py",
   "mimetype": "text/x-python",
   "name": "python",
   "nbconvert_exporter": "python",
   "pygments_lexer": "ipython2",
   "version": "2.7.15rc1"
  }
 },
 "nbformat": 4,
 "nbformat_minor": 2
}
